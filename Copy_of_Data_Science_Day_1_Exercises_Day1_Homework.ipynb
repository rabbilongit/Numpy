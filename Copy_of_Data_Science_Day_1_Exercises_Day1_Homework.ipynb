{
  "cells": [
    {
      "cell_type": "markdown",
      "metadata": {
        "id": "KdERlTpFuL5V"
      },
      "source": [
        "# Exercises"
      ]
    },
    {
      "cell_type": "markdown",
      "metadata": {
        "id": "to-gsrQyuL5Z"
      },
      "source": [
        "### #1 - Calculate the BMI (body mass index) on the two lists below using NDArrays..."
      ]
    },
    {
      "cell_type": "code",
      "execution_count": 3,
      "metadata": {
        "id": "iZlf9DzeuL5a"
      },
      "outputs": [
        {
          "name": "stdout",
          "output_type": "stream",
          "text": [
            "[16.86620458 17.87755102 18.82562984 19.71450617 20.54794521 21.32943755\n",
            " 22.06222222]\n"
          ]
        }
      ],
      "source": [
        "import numpy as np\n",
        "# formula = weight / (height**2) * 730\n",
        "height = [69, 70, 71, 72, 73, 74, 75]\n",
        "weight = [110, 120, 130, 140, 150, 160, 170]\n",
        "\n",
        "np_height =np.array(height)\n",
        "np_weight = np.array(weight)\n",
        "\n",
        "Bmi = np_weight/ (np_height**2) *730\n",
        "print(Bmi)\n"
      ]
    },
    {
      "cell_type": "markdown",
      "metadata": {
        "id": "RSsT8w8ouL5b"
      },
      "source": [
        "### #2 - Create a function that will take in two parameters and will create a random matrix based off of those parameters. Extra: Have additional parameters taken in that allow the user to choose the shape and data type of the matrix."
      ]
    },
    {
      "cell_type": "code",
      "execution_count": 17,
      "metadata": {
        "id": "ygFvj0aeuL5b"
      },
      "outputs": [
        {
          "name": "stdout",
          "output_type": "stream",
          "text": [
            "[[8 7 6]\n",
            " [6 8 6]\n",
            " [8 6 8]]\n"
          ]
        }
      ],
      "source": [
        "# function takes 5 parameters \n",
        "# range start , range end , numbers of rows , numbers of column , data type\n",
        "\n",
        "def ran_ma(rng_start, rng_end , no_row, no_col , d_type ): \n",
        "    shp = (no_row, no_col)\n",
        "    neo = np.random.uniform(rng_start, rng_end, shp).astype(d_type)\n",
        "    return neo\n",
        "output = ran_ma(3,9,3,3,'int')\n",
        "print(output)"
      ]
    },
    {
      "cell_type": "markdown",
      "metadata": {
        "id": "e5mP1UX9uL5c"
      },
      "source": [
        "### #3 - Extra: Open and load the data in the two text files that have the Boston Red Sox hitting data for the past seasons. Compare the difference in the two years by putting the data into an NDArray and running a differencial operation on it. The column to look for will be SLG.\n",
        "\n",
        "Your output should display which year (either 2017 or 2018) was a better year based on SLG"
      ]
    },
    {
      "cell_type": "code",
      "execution_count": 5,
      "metadata": {
        "id": "iAExC-SjuL5c"
      },
      "outputs": [],
      "source": [
        "import csv\n",
        "import numpy as np\n",
        "\n",
        "\n",
        "\n",
        "\n"
      ]
    },
    {
      "cell_type": "code",
      "execution_count": 20,
      "metadata": {
        "id": "P8Rwr8lmuL5e"
      },
      "outputs": [
        {
          "name": "stdout",
          "output_type": "stream",
          "text": [
            "Average SLG of 2017:0.39334782374941785\n",
            "Average SLG of 2018:0.38750000335276125\n",
            "Based on the average SLG, performance was slightly better in 2017 compared to 2018 \n"
          ]
        }
      ],
      "source": [
        "FIELDS = ['Rk', 'Pos', 'Name', 'Age', 'G', 'PA', 'AB', 'R', 'H', '2B', '3B', 'HR', 'RBI', 'SB', 'CS', \n",
        "          'BB', 'SO', 'BA', 'OBP', 'SLG', 'OPS', 'OPS+', 'TB', 'GDP', 'HBP', 'SH', 'SF', 'IBB']\n",
        "\n",
        "DATATYPES = [('rk', 'i'), ('pos', '|S25'), ('name', '|S25'), ('age', 'i'), ('g', 'i'), ('pa', 'i'), ('ab', 'i'),\n",
        "                ('r', 'i'), ('h', 'i'), ('2b', 'i'), ('3b', 'i'), ('hr', 'i'), ('rbi', 'i'), ('sb', 'i'), ('cs', 'i'),\n",
        "                ('bb', 'i'), ('so', 'i'), ('ba', 'f'), ('obp', 'f'), ('slg', 'f'), ('ops', 'f'), ('opsp', 'i'),\n",
        "                ('tb', 'i'), ('gdp', 'i'), ('hbp', 'i'), ('sh', 'i'), ('sf', 'i'), ('ibb', 'i')]\n",
        "\n",
        "#Use this function to actually open the data inside of a NDArray\n",
        "def load_data(filename, d = ','):\n",
        "    data = np.genfromtxt(filename,delimiter = d, skip_header = 1,\n",
        "                        usecols = np.arange(0,24),invalid_raise=False,\n",
        "                        names = FIELDS, dtype = DATATYPES)\n",
        "    return data\n",
        "\n",
        "bs17 = load_data('redsox_2017_hitting.txt')\n",
        "bs18 = load_data('redsox_2018_hitting.txt')\n",
        "\n",
        "slg17 = bs17['SLG']\n",
        "# print(sorted(slg17))\n",
        "# print(len(slg17))\n",
        "\n",
        "slg18 =bs18['SLG']\n",
        "# print(sorted(slg18))\n",
        "# print(len(slg18))\n",
        "\n",
        "# claculating Average\n",
        "Avg_slg_17 = sum(slg17)/ len(slg17)\n",
        "print(f'Average SLG of 2017:{Avg_slg_17}')\n",
        "\n",
        "# calculating Average\n",
        "Avg_slg_18 = sum(slg18)/ len(slg18)\n",
        "print(f'Average SLG of 2018:{Avg_slg_18}')\n",
        "\n",
        "\n",
        "print('Based on the average SLG, performance was slightly better in 2017 compared to 2018 ')"
      ]
    }
  ],
  "metadata": {
    "colab": {
      "name": "Copy of Data_Science_Day_1_Exercises-Day1- Homework.ipynb",
      "provenance": []
    },
    "kernelspec": {
      "display_name": "Python 3",
      "language": "python",
      "name": "python3"
    },
    "language_info": {
      "codemirror_mode": {
        "name": "ipython",
        "version": 3
      },
      "file_extension": ".py",
      "mimetype": "text/x-python",
      "name": "python",
      "nbconvert_exporter": "python",
      "pygments_lexer": "ipython3",
      "version": "3.12.2"
    }
  },
  "nbformat": 4,
  "nbformat_minor": 0
}
